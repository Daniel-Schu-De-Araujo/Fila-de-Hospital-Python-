{
 "cells": [
  {
   "cell_type": "code",
   "execution_count": 1,
   "metadata": {},
   "outputs": [],
   "source": [
    "#Recolhendo os dados\n",
    "\n",
    "pacientes = [\n",
    "    {\"nome\": \"Maria\", \"idade\": 72, \"urgencia\": \"alta\"},\n",
    "    {\"nome\": \"Lucas\", \"idade\": 50, \"urgencia\": \"média\"},\n",
    "    {\"nome\": \"Ana\", \"idade\": 34, \"urgencia\": \"baixa\"},\n",
    "    {\"nome\": \"João\", \"idade\": 65, \"urgencia\": \"alta\"},\n",
    "    {\"nome\": \"Clara\", \"idade\": 28, \"urgencia\": \"média\"},\n",
    "    {\"nome\": \"Pedro\", \"idade\": 80, \"urgencia\": \"alta\"},\n",
    "    {\"nome\": \"Carla\", \"idade\": 59, \"urgencia\": \"baixa\"}\n",
    "]\n",
    "from operator import itemgetter\n",
    "#Importando o itemgetter para sortear os pacientes pela idade"
   ]
  },
  {
   "cell_type": "code",
   "execution_count": 2,
   "metadata": {},
   "outputs": [],
   "source": [
    "#Criando a classe 'Paciente'\n",
    "class Paciente:\n",
    "    def __init__(self, nome, idade, urgencia):\n",
    "        self.nome = nome\n",
    "        self.idade = idade\n",
    "        self.urgencia = urgencia\n",
    "#Criei todos os atributos necessários e garanti que estivessem funcionando"
   ]
  },
  {
   "cell_type": "code",
   "execution_count": 35,
   "metadata": {},
   "outputs": [],
   "source": [
    "class FilaHospital:\n",
    "        fila_alta_urgencia = [] #Criei 6 filas dentro da classe, 3 que vão receber os pacientes por urgência e 3 que vão receber eles organizados por urgência e idade.\n",
    "        fila_media_urgencia = []\n",
    "        fila_baixa_urgencia = []\n",
    "        fila_alta_urgencia_sorted = []\n",
    "        fila_media_urgencia_sorted = []\n",
    "        fila_baixa_urgencia_sorted = []#Fim das 6 filas.\n",
    "        def adicionar_paciente(self, pessoa):#Adicionar paciente\n",
    "            paciente = Paciente(pessoa['nome'], pessoa['idade'], pessoa['urgencia']) #Variável descartável para criar as filas.\n",
    "            if paciente.urgencia == 'alta':\n",
    "                self.fila_alta_urgencia.append({'nome': paciente.nome, 'idade': paciente.idade, 'urgencia': paciente.urgencia})#Fila de alta urgência.\n",
    "            elif paciente.urgencia == 'média':\n",
    "                self.fila_media_urgencia.append({'nome': paciente.nome, 'idade': paciente.idade, 'urgencia': paciente.urgencia})#Fila de média urgência.\n",
    "            elif paciente.urgencia == 'baixa':\n",
    "                self.fila_baixa_urgencia.append({'nome': paciente.nome, 'idade': paciente.idade, 'urgencia': paciente.urgencia})#Fila de baixa urgência.\n",
    "        def prioridade_idoso(self):#Prioridade idoso\n",
    "            self.fila_alta_urgencia_sorted.extend(sorted(self.fila_alta_urgencia, key=itemgetter('idade'), reverse=True))#Fila de alta urgência sorteada.\n",
    "            self.fila_media_urgencia_sorted.extend(sorted(self.fila_media_urgencia, key=itemgetter('idade'), reverse=True))#Fila de média urgência sorteada.\n",
    "            self.fila_baixa_urgencia_sorted.extend(sorted(self.fila_baixa_urgencia, key=itemgetter('idade'), reverse=True))#Fila de baixa urgência sorteada.\n",
    "        def exibir_fila(self):#Exibir fila.\n",
    "            print('Alta urgência:')\n",
    "            for paciente in self.fila_alta_urgencia_sorted: #A partir daqui todas as variáveis são as _sorted\n",
    "                print(f' - Nome: {paciente['nome']} | - Idade: {paciente['idade']} anos.')#Informações da fila de alta urgência.\n",
    "            print('\\nMédia urgência:')\n",
    "            for paciente in self.fila_media_urgencia_sorted:\n",
    "                print(f' - Nome: {paciente['nome']} | - Idade: {paciente['idade']} anos.')#Informações da fila de média urgência.\n",
    "            print('\\nBaixa urgência:')\n",
    "            for paciente in self.fila_baixa_urgencia_sorted:\n",
    "                print(f' - Nome: {paciente['nome']} | - Idade: {paciente['idade']} anos.')#Informações da fila de baixa urgência.\n",
    "        def proximo_paciente(self):#Próximo paciente.\n",
    "            if self.fila_alta_urgencia_sorted: #If da fila de alta urgência.\n",
    "                paciente_atendido = self.fila_alta_urgencia_sorted.pop(0)\n",
    "                print(f'Próximo paciente: \\n - Nome: {paciente_atendido['nome']} | Idade: {paciente_atendido['idade']} anos.')\n",
    "            elif self.fila_alta_urgencia_sorted == [] and self.fila_media_urgencia_sorted: #Elif da fila de média urgência.\n",
    "                paciente_atendido = self.fila_media_urgencia_sorted.pop(0)\n",
    "                print(f'Próximo paciente: \\n - Nome: {paciente_atendido['nome']} | Idade: {paciente_atendido['idade']} anos.')\n",
    "            elif self.fila_alta_urgencia_sorted == [] and self.fila_media_urgencia_sorted == [] and self.fila_baixa_urgencia_sorted: #Elif da fila de baixa urgência\n",
    "                paciente_atendido = self.fila_baixa_urgencia_sorted.pop(0)\n",
    "                print(f'Próximo paciente: \\n - Nome: {paciente_atendido['nome']} | Idade: {paciente_atendido['idade']} anos.')"
   ]
  },
  {
   "cell_type": "markdown",
   "metadata": {},
   "source": [
    "Células para testar meu código ↓"
   ]
  },
  {
   "cell_type": "code",
   "execution_count": 36,
   "metadata": {},
   "outputs": [],
   "source": [
    "for paciente in pacientes:\n",
    "    FilaHospital().adicionar_paciente(paciente)"
   ]
  },
  {
   "cell_type": "code",
   "execution_count": 41,
   "metadata": {},
   "outputs": [],
   "source": [
    "FilaHospital().prioridade_idoso()"
   ]
  },
  {
   "cell_type": "code",
   "execution_count": null,
   "metadata": {},
   "outputs": [],
   "source": [
    "FilaHospital().exibir_fila()"
   ]
  },
  {
   "cell_type": "code",
   "execution_count": 30,
   "metadata": {},
   "outputs": [],
   "source": [
    "FilaHospital().proximo_paciente()"
   ]
  }
 ],
 "metadata": {
  "kernelspec": {
   "display_name": "base",
   "language": "python",
   "name": "python3"
  },
  "language_info": {
   "codemirror_mode": {
    "name": "ipython",
    "version": 3
   },
   "file_extension": ".py",
   "mimetype": "text/x-python",
   "name": "python",
   "nbconvert_exporter": "python",
   "pygments_lexer": "ipython3",
   "version": "3.12.7"
  }
 },
 "nbformat": 4,
 "nbformat_minor": 2
}
