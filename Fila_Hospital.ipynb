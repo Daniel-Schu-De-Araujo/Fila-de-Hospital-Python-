{
 "cells": [
  {
   "cell_type": "code",
   "execution_count": 21,
   "metadata": {},
   "outputs": [],
   "source": [
    "#Recolhendo os dados\n",
    "pacientes = [\n",
    "    {\"nome\": \"Maria\", \"idade\": 72, \"urgencia\": \"alta\"},\n",
    "    {\"nome\": \"Lucas\", \"idade\": 50, \"urgencia\": \"média\"},\n",
    "    {\"nome\": \"Ana\", \"idade\": 34, \"urgencia\": \"baixa\"},\n",
    "    {\"nome\": \"João\", \"idade\": 65, \"urgencia\": \"alta\"},\n",
    "    {\"nome\": \"Clara\", \"idade\": 28, \"urgencia\": \"média\"},\n",
    "    {\"nome\": \"Pedro\", \"idade\": 80, \"urgencia\": \"alta\"},\n",
    "    {\"nome\": \"Carla\", \"idade\": 59, \"urgencia\": \"baixa\"}\n",
    "]\n",
    "fila_urgencia_alta = []\n",
    "fila_urgencia_media = []\n",
    "fila_urgencia_baixa = []\n",
    "fila_pref_urgencia_alta = []\n",
    "fila_pref_urgencia_media = []\n",
    "fila_pref_urgencia_baixa = []\n",
    "#Separando uma fila em 6 para expôr as informações corretamente.\n",
    "#Depois de tentar algumas coisas diferentes, separei em seis filas e separei as pessoas no 'adicionar_paciente'."
   ]
  },
  {
   "cell_type": "code",
   "execution_count": 22,
   "metadata": {},
   "outputs": [],
   "source": [
    "#Criando a classe 'Paciente'\n",
    "class Paciente:\n",
    "    def __init__(self, nome, idade, urgencia):\n",
    "        self.nome = nome\n",
    "        self.idade = idade\n",
    "        self.urgencia = urgencia\n",
    "#Criei todos os atributos necessários e garanti que estivessem funcionando"
   ]
  },
  {
   "cell_type": "code",
   "execution_count": 23,
   "metadata": {},
   "outputs": [],
   "source": [
    "#A princípio eu quebrei um pouco a cabeça pensando em como adicionar um paciente por vez, mas lembrei do sistema de adição de itens de Ordem Paranormal.\n",
    "#Então, criei esse sistema (menos refinado), em que você adiciona um paciente à fila pelo seu nome.\n",
    "class FilaHospital(Paciente):\n",
    "    def adicionar_paciente(nome):\n",
    "        for paciente in pacientes:\n",
    "            if paciente['nome'] == nome and paciente['urgencia'] == 'alta' and paciente['idade'] >= 60:\n",
    "                paciente_solo = Paciente(paciente['nome'], paciente['idade'], paciente['urgencia'])\n",
    "                fila_pref_urgencia_alta.append(paciente_solo)\n",
    "                #\n",
    "                #Acima é a fila preferencial de alta urgência\n",
    "                #\n",
    "            elif paciente['nome'] == nome and paciente['urgencia'] == 'alta' and paciente['idade'] < 60:\n",
    "                paciente_solo = Paciente(paciente['nome'], paciente['idade'], paciente['urgencia'])\n",
    "                fila_urgencia_alta.append(paciente_solo)\n",
    "                #\n",
    "                #Acima é a fila de alta urgência\n",
    "                #\n",
    "            elif paciente['nome'] == nome and paciente['urgencia'] == 'média' and paciente['idade'] >= 60:\n",
    "                paciente_solo = Paciente(paciente['nome'], paciente['idade'], paciente['urgencia'])\n",
    "                fila_pref_urgencia_media.append(paciente_solo)\n",
    "                #\n",
    "                #Acima é a fila preferencial de média urgência\n",
    "                #\n",
    "            elif paciente['nome'] == nome and paciente['urgencia'] == 'média' and paciente['idade'] < 60:\n",
    "                paciente_solo = Paciente(paciente['nome'], paciente['idade'], paciente['urgencia'])\n",
    "                fila_urgencia_media.append(paciente_solo)\n",
    "                #\n",
    "                #Acima é a fila de média urgência\n",
    "                #\n",
    "            elif paciente['nome'] == nome and paciente['urgencia'] == 'alta' and paciente['idade'] >= 60:\n",
    "                paciente_solo = Paciente(paciente['nome'], paciente['idade'], paciente['urgencia'])\n",
    "                fila_pref_urgencia_baixa.append(paciente_solo)\n",
    "                #\n",
    "                #Acima é a fila preferencial de baixa urgência\n",
    "                #\n",
    "            elif paciente['nome'] == nome and paciente['urgencia'] == 'baixa' and paciente['idade'] < 60:\n",
    "                paciente_solo = Paciente(paciente['nome'], paciente['idade'], paciente['urgencia'])\n",
    "                fila_urgencia_baixa.append(paciente_solo)\n",
    "                #\n",
    "                #Acima é a fila de baixa urgência\n",
    "                #\n",
    "    def exibir_fila():\n",
    "        print(f'Alta urgência:')\n",
    "        for paciente in fila_pref_urgencia_alta:\n",
    "            print(f' - Nome: {paciente.nome} | Idade: {paciente.idade} anos')\n",
    "        for paciente in fila_urgencia_alta:\n",
    "            print(f' - Nome: {paciente.nome} | Idade: {paciente.idade} anos') #\n",
    "        #\n",
    "        #Acima são os loops das filas de urgência alta\n",
    "        #\n",
    "        print('\\nMédia urgência:')\n",
    "        for paciente in fila_pref_urgencia_media:\n",
    "            print(f' - Nome: {paciente.nome} | Idade: {paciente.idade} anos')\n",
    "        for paciente in fila_urgencia_media:\n",
    "            print(f' - Nome: {paciente.nome} | Idade: {paciente.idade} anos')\n",
    "        #\n",
    "        #Acima são os loops das filas de urgência média\n",
    "        #\n",
    "        print('\\nBaixa urgência:')\n",
    "        for paciente in fila_pref_urgencia_baixa:\n",
    "            print(f' - Nome: {paciente.nome} | Idade: {paciente.idade} anos')\n",
    "        for paciente in fila_urgencia_baixa:\n",
    "            print(f' - Nome: {paciente.nome} | Idade: {paciente.idade} anos')\n",
    "        #\n",
    "        #Acima são os loop das filas de baixa urgência\n",
    "        #\n",
    "        "
   ]
  },
  {
   "cell_type": "code",
   "execution_count": 24,
   "metadata": {},
   "outputs": [],
   "source": [
    "def proximo_paciente():\n",
    "    if fila_pref_urgencia_alta == [] and fila_urgencia_alta == [] and fila_pref_urgencia_media  == [] and fila_urgencia_media == [] and fila_pref_urgencia_baixa == [] and fila_urgencia_baixa != []:\n",
    "        paciente_atendido = fila_urgencia_baixa.pop(0)\n",
    "        print(f'Próximo paciente: \\n - Nome: {paciente_atendido.nome} | Idade: {paciente_atendido.idade} anos.')\n",
    "    #\n",
    "    #\n",
    "    #\n",
    "    elif fila_pref_urgencia_alta == [] and fila_urgencia_alta == [] and fila_pref_urgencia_media  == [] and fila_urgencia_media == [] and fila_pref_urgencia_baixa != []:\n",
    "        paciente_atendido = fila_pref_urgencia_baixa.pop(0)\n",
    "        print(f'Próximo paciente: \\n - Nome: {paciente_atendido.nome} | Idade: {paciente_atendido.idade} anos.')\n",
    "    #\n",
    "    #\n",
    "    #\n",
    "    elif fila_pref_urgencia_alta == [] and fila_urgencia_alta == [] and fila_pref_urgencia_media  == [] and fila_urgencia_media != []:\n",
    "        paciente_atendido = fila_urgencia_media.pop(0)\n",
    "        print(f'Próximo paciente: \\n - Nome: {paciente_atendido.nome} | Idade: {paciente_atendido.idade} anos.')\n",
    "    #\n",
    "    #\n",
    "    #\n",
    "    elif fila_pref_urgencia_alta == [] and fila_urgencia_alta == [] and fila_pref_urgencia_media  != []:\n",
    "        paciente_atendido = fila_pref_urgencia_media.pop(0)\n",
    "        print(f'Próximo paciente: \\n - Nome: {paciente_atendido.nome} | Idade: {paciente_atendido.idade} anos.')\n",
    "    #\n",
    "    #Acima são as filas de média urgência\n",
    "    #\n",
    "    elif fila_pref_urgencia_alta == [] and fila_urgencia_alta != []:\n",
    "        paciente_atendido = fila_urgencia_alta.pop(0)\n",
    "        print(f'Próximo paciente: \\n - Nome: {paciente_atendido.nome} | Idade: {paciente_atendido.idade} anos.')\n",
    "    #\n",
    "    #\n",
    "    #\n",
    "    elif fila_pref_urgencia_alta != []:\n",
    "        paciente_atendido = fila_pref_urgencia_alta.pop(0)\n",
    "        print(f'Próximo paciente: \\n - Nome: {paciente_atendido.nome} | Idade: {paciente_atendido.idade} anos.')\n",
    "    #\n",
    "    #Acima são as filas de alta urgência\n",
    "    #"
   ]
  },
  {
   "cell_type": "markdown",
   "metadata": {},
   "source": [
    "Células para testar meu código ↓"
   ]
  },
  {
   "cell_type": "code",
   "execution_count": 25,
   "metadata": {},
   "outputs": [],
   "source": [
    "for paciente in pacientes:\n",
    "    FilaHospital.adicionar_paciente(paciente['nome'])"
   ]
  },
  {
   "cell_type": "code",
   "execution_count": 28,
   "metadata": {},
   "outputs": [
    {
     "name": "stdout",
     "output_type": "stream",
     "text": [
      "Alta urgência:\n",
      " - Nome: João | Idade: 65 anos\n",
      " - Nome: Pedro | Idade: 80 anos\n",
      "\n",
      "Média urgência:\n",
      " - Nome: Lucas | Idade: 50 anos\n",
      " - Nome: Clara | Idade: 28 anos\n",
      "\n",
      "Baixa urgência:\n",
      " - Nome: Ana | Idade: 34 anos\n",
      " - Nome: Carla | Idade: 59 anos\n"
     ]
    }
   ],
   "source": [
    "FilaHospital.exibir_fila()"
   ]
  },
  {
   "cell_type": "code",
   "execution_count": 27,
   "metadata": {},
   "outputs": [
    {
     "name": "stdout",
     "output_type": "stream",
     "text": [
      "Próximo paciente: \n",
      " - Nome: Maria | Idade: 72 anos.\n"
     ]
    }
   ],
   "source": [
    "proximo_paciente()"
   ]
  }
 ],
 "metadata": {
  "kernelspec": {
   "display_name": "base",
   "language": "python",
   "name": "python3"
  },
  "language_info": {
   "codemirror_mode": {
    "name": "ipython",
    "version": 3
   },
   "file_extension": ".py",
   "mimetype": "text/x-python",
   "name": "python",
   "nbconvert_exporter": "python",
   "pygments_lexer": "ipython3",
   "version": "3.12.7"
  }
 },
 "nbformat": 4,
 "nbformat_minor": 2
}
